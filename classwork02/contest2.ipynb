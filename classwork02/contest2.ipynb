{
 "cells": [
  {
   "cell_type": "code",
   "execution_count": 1,
   "metadata": {},
   "outputs": [
    {
     "name": "stdout",
     "output_type": "stream",
     "text": [
      "0 0 0 0 0\n",
      "0 1 2 3 4\n",
      "0 2 4 6 8\n",
      "0 3 6 9 12\n",
      "0 4 8 12 16\n"
     ]
    }
   ],
   "source": [
    "a = [[i*j for j in range(5)] for i in range(5)]\n",
    "for x in a:\n",
    "    print(*x)"
   ]
  },
  {
   "cell_type": "code",
   "execution_count": 5,
   "metadata": {},
   "outputs": [
    {
     "name": "stdout",
     "output_type": "stream",
     "text": [
      "0 1 2 3 4 5 6 7 8 9 10 11 12 13\n",
      "14 15 16 17 18 19 20 21 22 23 24 25 26 27\n",
      "28 29 30 31 32 33 34 35 36 37 38 39 40 41\n",
      "42 43 44 45 46 47 48 49 50 51 52 53 54 55\n",
      "56 57 58 59 60 61 62 63 64 65 66 67 68 69\n",
      "70 71 72 73 74 75 76 77 78 79 80 81 82 83\n",
      "84 85 86 87 88 89 90 91 92 93 94 95 96 97\n"
     ]
    }
   ],
   "source": [
    "n, m = 7, 14\n",
    "a = [[i * m + j for j in range(m)] for i in range(n)]\n",
    "for x in a:\n",
    "    print(*x)"
   ]
  },
  {
   "cell_type": "code",
   "execution_count": 54,
   "metadata": {},
   "outputs": [
    {
     "name": "stdout",
     "output_type": "stream",
     "text": [
      "0 1 1 1 1 1 1 1 1 1 1 1 1 1 1 1 1 1 1 1 1 1 1 1 1 1 1 1 1 1 1 1 1 1\n",
      "2 0 1 1 1 1 1 1 1 1 1 1 1 1 1 1 1 1 1 1 1 1 1 1 1 1 1 1 1 1 1 1 1 1\n",
      "2 2 0 1 1 1 1 1 1 1 1 1 1 1 1 1 1 1 1 1 1 1 1 1 1 1 1 1 1 1 1 1 1 1\n",
      "2 2 2 0 1 1 1 1 1 1 1 1 1 1 1 1 1 1 1 1 1 1 1 1 1 1 1 1 1 1 1 1 1 1\n",
      "2 2 2 2 0 1 1 1 1 1 1 1 1 1 1 1 1 1 1 1 1 1 1 1 1 1 1 1 1 1 1 1 1 1\n",
      "2 2 2 2 2 0 1 1 1 1 1 1 1 1 1 1 1 1 1 1 1 1 1 1 1 1 1 1 1 1 1 1 1 1\n",
      "2 2 2 2 2 2 0 1 1 1 1 1 1 1 1 1 1 1 1 1 1 1 1 1 1 1 1 1 1 1 1 1 1 1\n",
      "2 2 2 2 2 2 2 0 1 1 1 1 1 1 1 1 1 1 1 1 1 1 1 1 1 1 1 1 1 1 1 1 1 1\n",
      "2 2 2 2 2 2 2 2 0 1 1 1 1 1 1 1 1 1 1 1 1 1 1 1 1 1 1 1 1 1 1 1 1 1\n",
      "2 2 2 2 2 2 2 2 2 0 1 1 1 1 1 1 1 1 1 1 1 1 1 1 1 1 1 1 1 1 1 1 1 1\n",
      "2 2 2 2 2 2 2 2 2 2 0 1 1 1 1 1 1 1 1 1 1 1 1 1 1 1 1 1 1 1 1 1 1 1\n",
      "2 2 2 2 2 2 2 2 2 2 2 0 1 1 1 1 1 1 1 1 1 1 1 1 1 1 1 1 1 1 1 1 1 1\n"
     ]
    }
   ],
   "source": [
    "n, m = 12, 34\n",
    "a = [[0 if i == j else 2 + (i - j) // (m + n) for j in range(m)] for i in range(n)]\n",
    "for x in a:\n",
    "    print(*x)"
   ]
  },
  {
   "cell_type": "code",
   "execution_count": 53,
   "metadata": {},
   "outputs": [
    {
     "name": "stdout",
     "output_type": "stream",
     "text": [
      "0\n"
     ]
    }
   ],
   "source": [
    "x, y = 2, 6\n",
    "print(x // y)"
   ]
  },
  {
   "cell_type": "code",
   "execution_count": 61,
   "metadata": {},
   "outputs": [
    {
     "name": "stdout",
     "output_type": "stream",
     "text": [
      "0 1 2 3 4 5 6\n",
      "1 1 2 3 4 5 6\n",
      "2 2 2 3 4 5 6\n",
      "3 3 3 3 4 5 6\n",
      "4 4 4 4 4 5 6\n",
      "5 5 5 5 5 5 6\n",
      "6 6 6 6 6 6 6\n"
     ]
    }
   ],
   "source": [
    "n = 7\n",
    "a = [[i if j <= i else j for j in range(n)] for i in range(n)]\n",
    "for x in a:\n",
    "    print(*x)"
   ]
  },
  {
   "cell_type": "code",
   "execution_count": 43,
   "metadata": {},
   "outputs": [],
   "source": [
    "with open(\"input.txt\", \"r\") as f:\n",
    "    a = f.readlines()\n",
    "    a = a[::-1]\n",
    "with open(\"output.txt\", \"w\") as F:\n",
    "    F.writelines([\"\".join(x) for x in a])\n",
    "    \n",
    "\n",
    "\n"
   ]
  },
  {
   "cell_type": "code",
   "execution_count": 52,
   "metadata": {},
   "outputs": [],
   "source": [
    "with open(\"input.txt\", \"r\") as f:\n",
    "    a = f.read()\n",
    "    a = list(a)\n",
    "    a = a[::-1]\n",
    "    del a[0]\n",
    "with open(\"output.txt\", \"w\") as F:\n",
    "    F.writelines([\"\".join(x) for x in a])"
   ]
  },
  {
   "cell_type": "code",
   "execution_count": 64,
   "metadata": {},
   "outputs": [
    {
     "name": "stdout",
     "output_type": "stream",
     "text": [
      "[['Иванов', 'Сергей', '9', '90'], ['Сергеев', 'Петр', '10', '91'], ['Петров', 'Василий', '11', '92'], ['Васильев', 'Иван', '9', '93']]\n",
      "93 91 92\n"
     ]
    }
   ],
   "source": [
    "with open(\"input.txt\", \"r\", encoding=\"utf-8\") as f:\n",
    "    a = list(map(lambda x: x.rstrip().split(), f.readlines()))\n",
    "    print(a)\n",
    "    s9, s10, s11 = [], [], []\n",
    "    for x in a:\n",
    "        if int(x[2]) == 9:\n",
    "            s9.append(int(x[3]))\n",
    "        elif int(x[2]) == 10:\n",
    "            s10.append(int(x[3]))\n",
    "        elif int(x[2]) == 11:\n",
    "            s11.append(int(x[3]))   \n",
    "    print(max(s9), max(s10), max(s11))\n",
    "\n",
    "    \n"
   ]
  },
  {
   "cell_type": "code",
   "execution_count": 76,
   "metadata": {},
   "outputs": [
    {
     "name": "stdout",
     "output_type": "stream",
     "text": [
      "13 35\n"
     ]
    }
   ],
   "source": [
    "with open(\"input.txt\", \"r\", encoding=\"utf-8\") as f:\n",
    "    a = list(map(lambda x: x.rstrip().split(), f.readlines()))\n",
    "    M = 0\n",
    "    s = []\n",
    "    for x in a:\n",
    "        if int(x[3]) >= M:\n",
    "            M = int(x[3])\n",
    "            s.append(x[2])\n",
    "    k = []\n",
    "    for i in sorted(s):\n",
    "        if i not in k:\n",
    "            k.append(i)\n",
    "    print(*k)\n"
   ]
  },
  {
   "cell_type": "code",
   "execution_count": 72,
   "metadata": {},
   "outputs": [
    {
     "name": "stdout",
     "output_type": "stream",
     "text": [
      "[12, 45, 47, 70, 72]\n"
     ]
    }
   ],
   "source": [
    "s = [12,12,45,47,47,70,72]\n",
    "k = []\n",
    "for i in s:\n",
    "    if i not in k:\n",
    "        k.append(i)\n",
    "print(k)\n",
    "\n",
    "    "
   ]
  },
  {
   "cell_type": "code",
   "execution_count": 79,
   "metadata": {},
   "outputs": [
    {
     "name": "stdout",
     "output_type": "stream",
     "text": [
      "91.5 91.0 92.0\n"
     ]
    }
   ],
   "source": [
    "with open(\"input.txt\", \"r\", encoding=\"utf-8\") as f:\n",
    "    a = list(map(lambda x: x.rstrip().split(), f.readlines()))\n",
    "    s9, s10, s11, n9, n10, n11 = 0, 0, 0, 0, 0, 0\n",
    "    for x in a:\n",
    "        if int(x[2]) == 9:\n",
    "            s9 = s9 + int(x[3])\n",
    "            n9 = n9 + 1\n",
    "        elif int(x[2]) == 10:\n",
    "            s10 = s10 + int(x[3])\n",
    "            n10 = n10 + 1\n",
    "        elif int(x[2]) == 11:\n",
    "            s11 = s11 + int(x[3])\n",
    "            n11 = n11 + 1 \n",
    "    print(s9 / n9, s10 / n10, s11 / n11)"
   ]
  },
  {
   "cell_type": "code",
   "execution_count": 86,
   "metadata": {},
   "outputs": [
    {
     "name": "stdout",
     "output_type": "stream",
     "text": [
      "Андреев Роман 14 75\n",
      "Васильев Андрей 3 56\n",
      "Иванов Сергей 14 56\n",
      "Петров Василий 3 99\n",
      "Романов Иван 27 68\n",
      "Сергеев Петр 23 74\n"
     ]
    }
   ],
   "source": [
    "with open(\"input.txt\", \"r\", encoding=\"utf-8\") as f:\n",
    "    a = list(map(lambda x: x.rstrip().split(), f.readlines()))\n",
    "    a = sorted(a, key = lambda x: x[0])\n",
    "    for x in a:\n",
    "        print(*x)\n"
   ]
  },
  {
   "cell_type": "code",
   "execution_count": null,
   "metadata": {},
   "outputs": [],
   "source": []
  }
 ],
 "metadata": {
  "kernelspec": {
   "display_name": "Python 3.10.6 64-bit",
   "language": "python",
   "name": "python3"
  },
  "language_info": {
   "codemirror_mode": {
    "name": "ipython",
    "version": 3
   },
   "file_extension": ".py",
   "mimetype": "text/x-python",
   "name": "python",
   "nbconvert_exporter": "python",
   "pygments_lexer": "ipython3",
   "version": "3.10.6"
  },
  "orig_nbformat": 4,
  "vscode": {
   "interpreter": {
    "hash": "aee8b7b246df8f9039afb4144a1f6fd8d2ca17a180786b69acc140d282b71a49"
   }
  }
 },
 "nbformat": 4,
 "nbformat_minor": 2
}
