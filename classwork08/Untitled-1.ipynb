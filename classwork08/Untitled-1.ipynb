{
 "cells": [
  {
   "cell_type": "code",
   "execution_count": 4,
   "metadata": {},
   "outputs": [
    {
     "name": "stdout",
     "output_type": "stream",
     "text": [
      "25\n"
     ]
    }
   ],
   "source": [
    "a, b = map(int, input().split())\n",
    "c = a ** 2 + b ** 2\n",
    "print(c)"
   ]
  },
  {
   "cell_type": "code",
   "execution_count": 7,
   "metadata": {},
   "outputs": [
    {
     "name": "stdout",
     "output_type": "stream",
     "text": [
      "6\n"
     ]
    }
   ],
   "source": [
    "s = input()\n",
    "k = 0\n",
    "for x in s:\n",
    "    if (ord(x) >= 48) and (ord(x) <= 57):\n",
    "        k = k + 1\n",
    "print(k)\n"
   ]
  },
  {
   "cell_type": "code",
   "execution_count": 18,
   "metadata": {},
   "outputs": [
    {
     "name": "stdout",
     "output_type": "stream",
     "text": [
      "2\n"
     ]
    }
   ],
   "source": [
    "a = input().split()\n",
    "k = 0\n",
    "for s in a:\n",
    "    s0 = []\n",
    "    for i in s:\n",
    "        s0.append(i)\n",
    "    if (s0[0] == \"A\") and (s0[1] == \"b\") and (s0[2] == \"o\"):\n",
    "        k = k + 1\n",
    "print(k)"
   ]
  },
  {
   "cell_type": "code",
   "execution_count": 35,
   "metadata": {},
   "outputs": [
    {
     "name": "stdout",
     "output_type": "stream",
     "text": [
      "[11, 9, 7, 5]\n"
     ]
    }
   ],
   "source": [
    "def task5(list_of_smth):\n",
    "    list = []\n",
    "    for i in range(1, len(list_of_smth), 2):\n",
    "        list.append(list_of_smth[i])\n",
    "    print(list[len(list)-2: 1: -1])"
   ]
  },
  {
   "cell_type": "code",
   "execution_count": null,
   "metadata": {},
   "outputs": [],
   "source": [
    "def task6(list1, list2, list3, list4):\n",
    "    d1 = set(list1)\n",
    "    d2 = set(list2)\n",
    "    d3 = set(list3)\n",
    "    d4 = set(list4)\n",
    "    m1 = d1 | d4\n",
    "    m2 = d2 | d3\n",
    "    m = m1 & m2\n",
    "    print(m)\n"
   ]
  },
  {
   "cell_type": "code",
   "execution_count": 55,
   "metadata": {},
   "outputs": [
    {
     "data": {
      "text/plain": [
       "(array([[24,  3,  8,  0, 21, 19],\n",
       "        [10, 10, 21, 32, 20, 29],\n",
       "        [14, 26, 17, 26, 22,  2],\n",
       "        [ 2,  1, 26,  5, 33, 29],\n",
       "        [24,  7, 33, 15, 20, 30],\n",
       "        [21, 14, 28,  0,  0, 18]]),\n",
       " -3219046.9999999986)"
      ]
     },
     "execution_count": 55,
     "metadata": {},
     "output_type": "execute_result"
    }
   ],
   "source": [
    "def task7():\n",
    "    import numpy as np\n",
    "    np.random.seed(3)\n",
    "    matrix = np.random.randint(36, size=36).reshape(6,6)\n",
    "    matrix1 = np.delete(matrix, 5, 0)\n",
    "    matrix2 = np.delete(matrix1, 0, 1)\n",
    "    det = np.linalg.det(matrix2)\n",
    "    return(matrix, det)\n",
    "\n",
    "    "
   ]
  },
  {
   "cell_type": "code",
   "execution_count": 53,
   "metadata": {},
   "outputs": [
    {
     "name": "stdout",
     "output_type": "stream",
     "text": [
      "[[24  3  8  0 21 19]\n",
      " [10 10 21 32 20 29]\n",
      " [14 26 17 26 22  2]\n",
      " [ 2  1 26  5 33 29]\n",
      " [24  7 33 15 20 30]\n",
      " [21 14 28  0  0 18]]\n",
      "[[ 3  8  0 21 19]\n",
      " [10 21 32 20 29]\n",
      " [26 17 26 22  2]\n",
      " [ 1 26  5 33 29]\n",
      " [ 7 33 15 20 30]]\n"
     ]
    }
   ],
   "source": [
    "def task8(f, min_x, max_x, N, min_y, max_y):\n",
    "    import numpy as np\n",
    "    import matplotlib.pyplot as plt\n",
    "    import matplotlib as mpl\n",
    "    x = np.linspace(min_x, max_x, N)\n",
    "    y = f(x)\n",
    "    plt.xscale('log')\n",
    "    plt.plot(x, y, \"k.\")\n",
    "    plt.grid(True)\n",
    "    plt.ylim((min_y, max_y))\n",
    "\n",
    "    y1 = plt.derivative(f, x)\n",
    "    plt.plot(x, y1)\n",
    "    plt.show\n",
    "    plt.savefig('function.jpg')\n",
    "\n"
   ]
  },
  {
   "cell_type": "code",
   "execution_count": null,
   "metadata": {},
   "outputs": [],
   "source": []
  }
 ],
 "metadata": {
  "kernelspec": {
   "display_name": "Python 3.10.6 64-bit",
   "language": "python",
   "name": "python3"
  },
  "language_info": {
   "codemirror_mode": {
    "name": "ipython",
    "version": 3
   },
   "file_extension": ".py",
   "mimetype": "text/x-python",
   "name": "python",
   "nbconvert_exporter": "python",
   "pygments_lexer": "ipython3",
   "version": "3.10.6"
  },
  "orig_nbformat": 4,
  "vscode": {
   "interpreter": {
    "hash": "aee8b7b246df8f9039afb4144a1f6fd8d2ca17a180786b69acc140d282b71a49"
   }
  }
 },
 "nbformat": 4,
 "nbformat_minor": 2
}
